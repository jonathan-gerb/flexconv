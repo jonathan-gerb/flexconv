{
 "cells": [
  {
   "cell_type": "markdown",
   "metadata": {},
   "source": []
  },
  {
   "cell_type": "code",
   "execution_count": 1,
   "metadata": {},
   "outputs": [],
   "source": [
    "import torch\n",
    "from functools import partial\n",
    "\n",
    "import flexconv\n",
    "from flexconv import FlexConv, SeparableFlexConv, CCNN, CCNNBlock, TCNBlock, PreActResNetBlock, ResNetBlock"
   ]
  },
  {
   "cell_type": "code",
   "execution_count": 2,
   "metadata": {},
   "outputs": [
    {
     "data": {
      "text/plain": [
       "FlexConv(\n",
       "  (Kernel): MAGNet(\n",
       "    (linears): ModuleList(\n",
       "      (0-2): 3 x Conv2d(32, 32, kernel_size=(1, 1), stride=(1, 1))\n",
       "    )\n",
       "    (output_linear): Conv2d(32, 96, kernel_size=(1, 1), stride=(1, 1))\n",
       "    (filters): ModuleList(\n",
       "      (0-3): 4 x MAGNetLayer(\n",
       "        (linear): Conv2d(2, 32, kernel_size=(1, 1), stride=(1, 1))\n",
       "      )\n",
       "    )\n",
       "  )\n",
       ")"
      ]
     },
     "execution_count": 2,
     "metadata": {},
     "output_type": "execute_result"
    }
   ],
   "source": [
    "in_channels = 3\n",
    "out_channels = 32\n",
    "n_dims = 2 # 1 for sequential data, 2 for image etc.\n",
    "conv = FlexConv(in_channels, out_channels, n_dims)\n",
    "sep_conv = SeparableFlexConv(in_channels, out_channels, n_dims)\n",
    "conv"
   ]
  },
  {
   "cell_type": "code",
   "execution_count": 3,
   "metadata": {},
   "outputs": [
    {
     "data": {
      "text/plain": [
       "CCNN(\n",
       "  (dropout_in): Dropout(p=0, inplace=False)\n",
       "  (conv1): SeparableFlexConv(\n",
       "    (Kernel): MAGNet(\n",
       "      (linears): ModuleList(\n",
       "        (0-2): 3 x Conv2d(32, 32, kernel_size=(1, 1), stride=(1, 1))\n",
       "      )\n",
       "      (output_linear): Conv2d(32, 3, kernel_size=(1, 1), stride=(1, 1))\n",
       "      (filters): ModuleList(\n",
       "        (0-3): 4 x MAGNetLayer(\n",
       "          (linear): Conv2d(2, 32, kernel_size=(1, 1), stride=(1, 1))\n",
       "        )\n",
       "      )\n",
       "    )\n",
       "    (channel_mixer): Conv2d(3, 380, kernel_size=(1, 1), stride=(1, 1))\n",
       "  )\n",
       "  (norm1): BatchNorm2d(380, eps=1e-05, momentum=0.1, affine=True, track_running_stats=True)\n",
       "  (nonlinear): GELU(approximate='none')\n",
       "  (blocks): Sequential(\n",
       "    (0): S4Block(\n",
       "      (conv1): SeparableFlexConv(\n",
       "        (Kernel): MAGNet(\n",
       "          (linears): ModuleList(\n",
       "            (0-2): 3 x Conv2d(32, 32, kernel_size=(1, 1), stride=(1, 1))\n",
       "          )\n",
       "          (output_linear): Conv2d(32, 380, kernel_size=(1, 1), stride=(1, 1))\n",
       "          (filters): ModuleList(\n",
       "            (0-3): 4 x MAGNetLayer(\n",
       "              (linear): Conv2d(2, 32, kernel_size=(1, 1), stride=(1, 1))\n",
       "            )\n",
       "          )\n",
       "        )\n",
       "        (channel_mixer): Conv2d(380, 380, kernel_size=(1, 1), stride=(1, 1))\n",
       "      )\n",
       "      (nonlinears): ModuleList(\n",
       "        (0-1): 2 x GELU(approximate='none')\n",
       "      )\n",
       "      (norm1): BatchNorm2d(380, eps=1e-05, momentum=0.1, affine=True, track_running_stats=True)\n",
       "      (linear1): Conv2d(380, 380, kernel_size=(1, 1), stride=(1, 1))\n",
       "      (dp): Dropout2d(p=0.15, inplace=False)\n",
       "      (shortcut): Sequential()\n",
       "    )\n",
       "    (1): S4Block(\n",
       "      (conv1): SeparableFlexConv(\n",
       "        (Kernel): MAGNet(\n",
       "          (linears): ModuleList(\n",
       "            (0-2): 3 x Conv2d(32, 32, kernel_size=(1, 1), stride=(1, 1))\n",
       "          )\n",
       "          (output_linear): Conv2d(32, 380, kernel_size=(1, 1), stride=(1, 1))\n",
       "          (filters): ModuleList(\n",
       "            (0-3): 4 x MAGNetLayer(\n",
       "              (linear): Conv2d(2, 32, kernel_size=(1, 1), stride=(1, 1))\n",
       "            )\n",
       "          )\n",
       "        )\n",
       "        (channel_mixer): Conv2d(380, 380, kernel_size=(1, 1), stride=(1, 1))\n",
       "      )\n",
       "      (nonlinears): ModuleList(\n",
       "        (0-1): 2 x GELU(approximate='none')\n",
       "      )\n",
       "      (norm1): BatchNorm2d(380, eps=1e-05, momentum=0.1, affine=True, track_running_stats=True)\n",
       "      (linear1): Conv2d(380, 380, kernel_size=(1, 1), stride=(1, 1))\n",
       "      (dp): Dropout2d(p=0.15, inplace=False)\n",
       "      (shortcut): Sequential()\n",
       "    )\n",
       "    (2): S4Block(\n",
       "      (conv1): SeparableFlexConv(\n",
       "        (Kernel): MAGNet(\n",
       "          (linears): ModuleList(\n",
       "            (0-2): 3 x Conv2d(32, 32, kernel_size=(1, 1), stride=(1, 1))\n",
       "          )\n",
       "          (output_linear): Conv2d(32, 380, kernel_size=(1, 1), stride=(1, 1))\n",
       "          (filters): ModuleList(\n",
       "            (0-3): 4 x MAGNetLayer(\n",
       "              (linear): Conv2d(2, 32, kernel_size=(1, 1), stride=(1, 1))\n",
       "            )\n",
       "          )\n",
       "        )\n",
       "        (channel_mixer): Conv2d(380, 380, kernel_size=(1, 1), stride=(1, 1))\n",
       "      )\n",
       "      (nonlinears): ModuleList(\n",
       "        (0-1): 2 x GELU(approximate='none')\n",
       "      )\n",
       "      (norm1): BatchNorm2d(380, eps=1e-05, momentum=0.1, affine=True, track_running_stats=True)\n",
       "      (linear1): Conv2d(380, 380, kernel_size=(1, 1), stride=(1, 1))\n",
       "      (dp): Dropout2d(p=0.15, inplace=False)\n",
       "      (shortcut): Sequential()\n",
       "    )\n",
       "    (3): S4Block(\n",
       "      (conv1): SeparableFlexConv(\n",
       "        (Kernel): MAGNet(\n",
       "          (linears): ModuleList(\n",
       "            (0-2): 3 x Conv2d(32, 32, kernel_size=(1, 1), stride=(1, 1))\n",
       "          )\n",
       "          (output_linear): Conv2d(32, 380, kernel_size=(1, 1), stride=(1, 1))\n",
       "          (filters): ModuleList(\n",
       "            (0-3): 4 x MAGNetLayer(\n",
       "              (linear): Conv2d(2, 32, kernel_size=(1, 1), stride=(1, 1))\n",
       "            )\n",
       "          )\n",
       "        )\n",
       "        (channel_mixer): Conv2d(380, 380, kernel_size=(1, 1), stride=(1, 1))\n",
       "      )\n",
       "      (nonlinears): ModuleList(\n",
       "        (0-1): 2 x GELU(approximate='none')\n",
       "      )\n",
       "      (norm1): BatchNorm2d(380, eps=1e-05, momentum=0.1, affine=True, track_running_stats=True)\n",
       "      (linear1): Conv2d(380, 380, kernel_size=(1, 1), stride=(1, 1))\n",
       "      (dp): Dropout2d(p=0.15, inplace=False)\n",
       "      (shortcut): Sequential()\n",
       "    )\n",
       "    (4): S4Block(\n",
       "      (conv1): SeparableFlexConv(\n",
       "        (Kernel): MAGNet(\n",
       "          (linears): ModuleList(\n",
       "            (0-2): 3 x Conv2d(32, 32, kernel_size=(1, 1), stride=(1, 1))\n",
       "          )\n",
       "          (output_linear): Conv2d(32, 380, kernel_size=(1, 1), stride=(1, 1))\n",
       "          (filters): ModuleList(\n",
       "            (0-3): 4 x MAGNetLayer(\n",
       "              (linear): Conv2d(2, 32, kernel_size=(1, 1), stride=(1, 1))\n",
       "            )\n",
       "          )\n",
       "        )\n",
       "        (channel_mixer): Conv2d(380, 380, kernel_size=(1, 1), stride=(1, 1))\n",
       "      )\n",
       "      (nonlinears): ModuleList(\n",
       "        (0-1): 2 x GELU(approximate='none')\n",
       "      )\n",
       "      (norm1): BatchNorm2d(380, eps=1e-05, momentum=0.1, affine=True, track_running_stats=True)\n",
       "      (linear1): Conv2d(380, 380, kernel_size=(1, 1), stride=(1, 1))\n",
       "      (dp): Dropout2d(p=0.15, inplace=False)\n",
       "      (shortcut): Sequential()\n",
       "    )\n",
       "    (5): S4Block(\n",
       "      (conv1): SeparableFlexConv(\n",
       "        (Kernel): MAGNet(\n",
       "          (linears): ModuleList(\n",
       "            (0-2): 3 x Conv2d(32, 32, kernel_size=(1, 1), stride=(1, 1))\n",
       "          )\n",
       "          (output_linear): Conv2d(32, 380, kernel_size=(1, 1), stride=(1, 1))\n",
       "          (filters): ModuleList(\n",
       "            (0-3): 4 x MAGNetLayer(\n",
       "              (linear): Conv2d(2, 32, kernel_size=(1, 1), stride=(1, 1))\n",
       "            )\n",
       "          )\n",
       "        )\n",
       "        (channel_mixer): Conv2d(380, 380, kernel_size=(1, 1), stride=(1, 1))\n",
       "      )\n",
       "      (nonlinears): ModuleList(\n",
       "        (0-1): 2 x GELU(approximate='none')\n",
       "      )\n",
       "      (norm1): BatchNorm2d(380, eps=1e-05, momentum=0.1, affine=True, track_running_stats=True)\n",
       "      (linear1): Conv2d(380, 380, kernel_size=(1, 1), stride=(1, 1))\n",
       "      (dp): Dropout2d(p=0.15, inplace=False)\n",
       "      (shortcut): Sequential()\n",
       "    )\n",
       "  )\n",
       "  (out_layer): Conv2d(380, 10, kernel_size=(1, 1), stride=(1, 1))\n",
       "  (out_norm): BatchNorm2d(380, eps=1e-05, momentum=0.1, affine=True, track_running_stats=True)\n",
       ")"
      ]
     },
     "execution_count": 3,
     "metadata": {},
     "output_type": "execute_result"
    }
   ],
   "source": [
    "model = CCNN(in_channels=3, out_channels=10, no_hidden=380, no_blocks=6, data_dim=2)\n",
    "model"
   ]
  },
  {
   "cell_type": "code",
   "execution_count": 4,
   "metadata": {},
   "outputs": [
    {
     "data": {
      "text/plain": [
       "CCNNBlock(\n",
       "  (conv1): SeparableFlexConv(\n",
       "    (Kernel): MAGNet(\n",
       "      (linears): ModuleList(\n",
       "        (0-2): 3 x Conv2d(32, 32, kernel_size=(1, 1), stride=(1, 1))\n",
       "      )\n",
       "      (output_linear): Conv2d(32, 3, kernel_size=(1, 1), stride=(1, 1))\n",
       "      (filters): ModuleList(\n",
       "        (0-3): 4 x MAGNetLayer(\n",
       "          (linear): Conv2d(2, 32, kernel_size=(1, 1), stride=(1, 1))\n",
       "        )\n",
       "      )\n",
       "    )\n",
       "    (channel_mixer): Conv2d(3, 32, kernel_size=(1, 1), stride=(1, 1))\n",
       "  )\n",
       "  (nonlinears): ModuleList(\n",
       "    (0-1): 2 x GELU(approximate='none')\n",
       "  )\n",
       "  (norm1): BatchNorm2d(3, eps=1e-05, momentum=0.1, affine=True, track_running_stats=True)\n",
       "  (linear1): Conv2d(32, 32, kernel_size=(1, 1), stride=(1, 1))\n",
       "  (dp): Dropout2d(p=0.15, inplace=False)\n",
       "  (shortcut): Sequential(\n",
       "    (0): Conv2d(3, 32, kernel_size=(1, 1), stride=(1, 1))\n",
       "  )\n",
       ")"
      ]
     },
     "execution_count": 4,
     "metadata": {},
     "output_type": "execute_result"
    }
   ],
   "source": [
    "ccnn_block = CCNNBlock(in_channels, out_channels, n_dims)\n",
    "ccnn_block"
   ]
  },
  {
   "cell_type": "markdown",
   "metadata": {},
   "source": [
    "Other blocks are still available but do not yet have a ncie wrapper interface.\n",
    "You can still use them as follows:"
   ]
  },
  {
   "cell_type": "code",
   "execution_count": 5,
   "metadata": {},
   "outputs": [
    {
     "name": "stdout",
     "output_type": "stream",
     "text": [
      "shortcut used\n"
     ]
    },
    {
     "data": {
      "text/plain": [
       "TCNBlock(\n",
       "  (conv1): FlexConv(\n",
       "    (Kernel): MAGNet(\n",
       "      (linears): ModuleList(\n",
       "        (0-2): 3 x Conv2d(32, 32, kernel_size=(1, 1), stride=(1, 1))\n",
       "      )\n",
       "      (output_linear): Conv2d(32, 48, kernel_size=(1, 1), stride=(1, 1))\n",
       "      (filters): ModuleList(\n",
       "        (0-3): 4 x MAGNetLayer(\n",
       "          (linear): Conv2d(2, 32, kernel_size=(1, 1), stride=(1, 1))\n",
       "        )\n",
       "      )\n",
       "    )\n",
       "  )\n",
       "  (conv2): FlexConv(\n",
       "    (Kernel): MAGNet(\n",
       "      (linears): ModuleList(\n",
       "        (0-2): 3 x Conv2d(32, 32, kernel_size=(1, 1), stride=(1, 1))\n",
       "      )\n",
       "      (output_linear): Conv2d(32, 256, kernel_size=(1, 1), stride=(1, 1))\n",
       "      (filters): ModuleList(\n",
       "        (0-3): 4 x MAGNetLayer(\n",
       "          (linear): Conv2d(2, 32, kernel_size=(1, 1), stride=(1, 1))\n",
       "        )\n",
       "      )\n",
       "    )\n",
       "  )\n",
       "  (nonlinearities): ModuleList(\n",
       "    (0-2): 3 x GELU(approximate='none')\n",
       "  )\n",
       "  (norm1): BatchNorm2d(16, eps=1e-05, momentum=0.1, affine=True, track_running_stats=True)\n",
       "  (norm2): BatchNorm2d(16, eps=1e-05, momentum=0.1, affine=True, track_running_stats=True)\n",
       "  (dp): Dropout2d(p=0.1, inplace=False)\n",
       "  (shortcut): Sequential(\n",
       "    (0): Conv2d(3, 16, kernel_size=(1, 1), stride=(1, 1))\n",
       "  )\n",
       ")"
      ]
     },
     "execution_count": 5,
     "metadata": {},
     "output_type": "execute_result"
    }
   ],
   "source": [
    "conv = partial(FlexConv, data_dim=2) # block expects data_dim to be already set\n",
    "nonlinearity = torch.nn.GELU\n",
    "norm = torch.nn.BatchNorm2d # can be other dimensions \n",
    "linearLayerType = flexconv.linear.Linear2d # can be other dimensions\n",
    "dropoutType = torch.nn.Dropout2d # can be other dimensions\n",
    "dropout = 0.1\n",
    "\n",
    "\n",
    "tcn_block = TCNBlock(3, 16, conv, nonlinearity, norm, linearLayerType, dropoutType, dropout)\n",
    "tcn_block"
   ]
  },
  {
   "cell_type": "code",
   "execution_count": 6,
   "metadata": {},
   "outputs": [
    {
     "name": "stdout",
     "output_type": "stream",
     "text": [
      "shortcut used\n"
     ]
    },
    {
     "data": {
      "text/plain": [
       "ResNetBlock(\n",
       "  (conv1): FlexConv(\n",
       "    (Kernel): MAGNet(\n",
       "      (linears): ModuleList(\n",
       "        (0-2): 3 x Conv2d(32, 32, kernel_size=(1, 1), stride=(1, 1))\n",
       "      )\n",
       "      (output_linear): Conv2d(32, 48, kernel_size=(1, 1), stride=(1, 1))\n",
       "      (filters): ModuleList(\n",
       "        (0-3): 4 x MAGNetLayer(\n",
       "          (linear): Conv2d(2, 32, kernel_size=(1, 1), stride=(1, 1))\n",
       "        )\n",
       "      )\n",
       "    )\n",
       "  )\n",
       "  (conv2): FlexConv(\n",
       "    (Kernel): MAGNet(\n",
       "      (linears): ModuleList(\n",
       "        (0-2): 3 x Conv2d(32, 32, kernel_size=(1, 1), stride=(1, 1))\n",
       "      )\n",
       "      (output_linear): Conv2d(32, 256, kernel_size=(1, 1), stride=(1, 1))\n",
       "      (filters): ModuleList(\n",
       "        (0-3): 4 x MAGNetLayer(\n",
       "          (linear): Conv2d(2, 32, kernel_size=(1, 1), stride=(1, 1))\n",
       "        )\n",
       "      )\n",
       "    )\n",
       "  )\n",
       "  (nonlinearities): ModuleList(\n",
       "    (0-2): 3 x GELU(approximate='none')\n",
       "  )\n",
       "  (norm1): BatchNorm2d(16, eps=1e-05, momentum=0.1, affine=True, track_running_stats=True)\n",
       "  (norm2): BatchNorm2d(16, eps=1e-05, momentum=0.1, affine=True, track_running_stats=True)\n",
       "  (dp): Dropout2d(p=0.1, inplace=False)\n",
       "  (shortcut): Sequential(\n",
       "    (0): Conv2d(3, 16, kernel_size=(1, 1), stride=(1, 1))\n",
       "  )\n",
       ")"
      ]
     },
     "execution_count": 6,
     "metadata": {},
     "output_type": "execute_result"
    }
   ],
   "source": [
    "conv = partial(FlexConv, data_dim=2) # block expects data_dim to be already set\n",
    "nonlinearity = torch.nn.GELU\n",
    "norm = torch.nn.BatchNorm2d # can be other dimensions \n",
    "linearLayerType = flexconv.linear.Linear2d # can be other dimensions\n",
    "dropoutType = torch.nn.Dropout2d # can be other dimensions\n",
    "dropout = 0.1\n",
    "\n",
    "# TCNBlock, ResNetBlock, PreActResNetBlock\n",
    "resnet_block = ResNetBlock(3, 16, conv, nonlinearity, norm, linearLayerType, dropoutType, dropout)\n",
    "resnet_block"
   ]
  },
  {
   "cell_type": "code",
   "execution_count": 7,
   "metadata": {},
   "outputs": [
    {
     "name": "stdout",
     "output_type": "stream",
     "text": [
      "shortcut used\n"
     ]
    },
    {
     "data": {
      "text/plain": [
       "PreActResNetBlock(\n",
       "  (conv1): FlexConv(\n",
       "    (Kernel): MAGNet(\n",
       "      (linears): ModuleList(\n",
       "        (0-2): 3 x Conv2d(32, 32, kernel_size=(1, 1), stride=(1, 1))\n",
       "      )\n",
       "      (output_linear): Conv2d(32, 48, kernel_size=(1, 1), stride=(1, 1))\n",
       "      (filters): ModuleList(\n",
       "        (0-3): 4 x MAGNetLayer(\n",
       "          (linear): Conv2d(2, 32, kernel_size=(1, 1), stride=(1, 1))\n",
       "        )\n",
       "      )\n",
       "    )\n",
       "  )\n",
       "  (conv2): FlexConv(\n",
       "    (Kernel): MAGNet(\n",
       "      (linears): ModuleList(\n",
       "        (0-2): 3 x Conv2d(32, 32, kernel_size=(1, 1), stride=(1, 1))\n",
       "      )\n",
       "      (output_linear): Conv2d(32, 256, kernel_size=(1, 1), stride=(1, 1))\n",
       "      (filters): ModuleList(\n",
       "        (0-3): 4 x MAGNetLayer(\n",
       "          (linear): Conv2d(2, 32, kernel_size=(1, 1), stride=(1, 1))\n",
       "        )\n",
       "      )\n",
       "    )\n",
       "  )\n",
       "  (nonlinearities): ModuleList(\n",
       "    (0-2): 3 x GELU(approximate='none')\n",
       "  )\n",
       "  (norm1): BatchNorm2d(16, eps=1e-05, momentum=0.1, affine=True, track_running_stats=True)\n",
       "  (norm2): BatchNorm2d(16, eps=1e-05, momentum=0.1, affine=True, track_running_stats=True)\n",
       "  (dp): Dropout2d(p=0.1, inplace=False)\n",
       "  (shortcut): Sequential(\n",
       "    (0): Conv2d(3, 16, kernel_size=(1, 1), stride=(1, 1))\n",
       "  )\n",
       ")"
      ]
     },
     "execution_count": 7,
     "metadata": {},
     "output_type": "execute_result"
    }
   ],
   "source": [
    "conv = partial(FlexConv, data_dim=2) # block expects data_dim to be already set\n",
    "nonlinearity = torch.nn.GELU\n",
    "norm = torch.nn.BatchNorm2d # can be other dimensions \n",
    "linearLayerType = flexconv.linear.Linear2d # can be other dimensions\n",
    "dropoutType = torch.nn.Dropout2d # can be other dimensions\n",
    "dropout = 0.1\n",
    "\n",
    "pre_act_resnet_block = PreActResNetBlock(3, 16, conv, nonlinearity, norm, linearLayerType, dropoutType, dropout)\n",
    "pre_act_resnet_block"
   ]
  }
 ],
 "metadata": {
  "kernelspec": {
   "display_name": "audiocraft",
   "language": "python",
   "name": "python3"
  },
  "language_info": {
   "codemirror_mode": {
    "name": "ipython",
    "version": 3
   },
   "file_extension": ".py",
   "mimetype": "text/x-python",
   "name": "python",
   "nbconvert_exporter": "python",
   "pygments_lexer": "ipython3",
   "version": "3.11.5"
  }
 },
 "nbformat": 4,
 "nbformat_minor": 2
}
